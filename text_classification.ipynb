{
 "cells": [
  {
   "cell_type": "code",
   "execution_count": 1,
   "metadata": {},
   "outputs": [],
   "source": [
    "%matplotlib inline\n",
    "\n",
    "import re\n",
    "import nltk\n",
    "import time\n",
    "import torch\n",
    "import random\n",
    "import sklearn\n",
    "import itertools\n",
    "import numpy as np\n",
    "import collections\n",
    "import pandas as pd\n",
    "import matplotlib.pyplot as plt\n",
    "\n",
    "from sklearn.metrics import confusion_matrix\n",
    "from scipy.interpolate import make_interp_spline"
   ]
  },
  {
   "cell_type": "markdown",
   "metadata": {},
   "source": [
    "# Gender classification assignment\n",
    "\n",
    "You are to follow the instructions below and fill each cell as instructed.\n",
    "Once ready, submit this notebook on VLE with all the outputs included (run all your code and don't clear any output cells).\n",
    "Do not submit anything else apart from the notebook and do not use any extra data apart from what is provided.\n",
    "\n",
    "You will be working on classifying the genders of people from their blog posts using a data set called the [Blog Authorship Corpus](https://www.kaggle.com/rtatman/blog-authorship-corpus).\n",
    "This has been pre-split and reduced for you to use in this assignment.\n",
    "\n",
    "10% of the marks from this assignment are based on neatness.\n",
    "\n",
    "This assignment will carry 40% of the final mark."
   ]
  },
  {
   "cell_type": "markdown",
   "metadata": {},
   "source": [
    "## Data processing (10%)\n",
    "\n",
    "You have a train/dev/test split data set consisting of CSV files with two fields: gender and text.\n",
    "The gender field contains either 'male' or 'female' whilst the text is a string containing text from blog posts.\n",
    "\n",
    "Do the following tasks:"
   ]
  },
  {
   "cell_type": "markdown",
   "metadata": {},
   "source": [
    "Load these three CSV files and tokenise each text."
   ]
  },
  {
   "cell_type": "code",
   "execution_count": 2,
   "metadata": {},
   "outputs": [],
   "source": [
    "train_set = pd.read_csv(\"train.csv\")\n",
    "test_set = pd.read_csv(\"test.csv\")\n",
    "dev_set = pd.read_csv(\"dev.csv\")\n",
    "\n",
    "train_set_x = train_set['text']\n",
    "train_set_y = train_set['gender']\n",
    "\n",
    "test_set_x = test_set['text']\n",
    "test_set_y = test_set['gender']\n",
    "\n",
    "dev_set_x = dev_set['text']\n",
    "dev_set_y = dev_set['gender']\n",
    "\n",
    "def preprocess(x):\n",
    "    return x.lower()\n",
    "\n",
    "train_set_x = train_set_x.apply(preprocess)\n",
    "train_set_x = train_set_x.apply(preprocess)\n",
    "dev_set_x = dev_set_x.apply(preprocess)\n",
    "\n",
    "train_token_x = train_set_x.apply(nltk.tokenize.word_tokenize)\n",
    "test_token_x = test_set_x.apply(nltk.tokenize.word_tokenize)\n",
    "dev_token_x = dev_set_x.apply(nltk.tokenize.word_tokenize)"
   ]
  },
  {
   "cell_type": "markdown",
   "metadata": {},
   "source": [
    "Write code that counts the number of lines in each data set as well as the maximum number of tokens in each data set."
   ]
  },
  {
   "cell_type": "code",
   "execution_count": 3,
   "metadata": {},
   "outputs": [
    {
     "name": "stdout",
     "output_type": "stream",
     "text": [
      "Train Set no. of lines: 37208\n",
      "Test Set no. of lines: 4652\n",
      "Dev Set no. of lines: 4650\n",
      "\n",
      "Train Set max tokens: 97\n",
      "Test Set max tokens: 66\n",
      "Dev Set max tokens: 61\n"
     ]
    }
   ],
   "source": [
    "train_len = len(train_set.index)\n",
    "test_len = len(test_set.index)\n",
    "dev_len = len(dev_set.index)\n",
    "\n",
    "print(\"Train Set no. of lines:\", str(train_len))\n",
    "print(\"Test Set no. of lines:\", str(test_len))\n",
    "print(\"Dev Set no. of lines:\", str(dev_len))\n",
    "print()\n",
    "\n",
    "train_lens = [len(x) for x in train_token_x]\n",
    "train_max = max(train_lens)\n",
    "test_lens = [len(x) for x in test_token_x]\n",
    "test_max = max(test_lens)\n",
    "dev_lens = [len(x) for x in dev_token_x]\n",
    "dev_max = max(dev_lens)\n",
    "\n",
    "print(\"Train Set max tokens:\", str(train_max))\n",
    "print(\"Test Set max tokens:\", str(test_max))\n",
    "print(\"Dev Set max tokens:\", str(dev_max))"
   ]
  },
  {
   "cell_type": "markdown",
   "metadata": {},
   "source": [
    "Convert each data set's labels (gender) into numeric form."
   ]
  },
  {
   "cell_type": "code",
   "execution_count": 4,
   "metadata": {},
   "outputs": [],
   "source": [
    "categories = sorted(set(train_set_y))\n",
    "\n",
    "cat2index = {cat: i for (i, cat) in enumerate(categories)}\n",
    "\n",
    "tensor_indexed_train_y = torch.tensor([cat2index[category] for category in train_set_y], dtype=torch.int64)\n",
    "tensor_indexed_test_y = torch.tensor([cat2index[category] for category in test_set_y], dtype=torch.int64)\n",
    "tensor_indexed_dev_y = torch.tensor([cat2index[category] for category in dev_set_y], dtype=torch.int64)"
   ]
  },
  {
   "cell_type": "markdown",
   "metadata": {},
   "source": [
    "Extract a vocabulary consisting of the tokens that occur at least 5 times in the train set and output the size of your vocabulary.\n",
    "Include the unknown token and pad token in the vocabulary."
   ]
  },
  {
   "cell_type": "code",
   "execution_count": 5,
   "metadata": {},
   "outputs": [
    {
     "name": "stdout",
     "output_type": "stream",
     "text": [
      "Length of vocabulary: 7112\n"
     ]
    }
   ],
   "source": [
    "min_freq = 5\n",
    "\n",
    "frequencies = collections.Counter(word for text in train_token_x for word in text)\n",
    "vocab = sorted(frequencies.keys(), key=frequencies.get, reverse=True)\n",
    "while frequencies[vocab[-1]] < min_freq:\n",
    "    vocab.pop()\n",
    "vocab = ['<PAD>', '<UNK>'] + sorted(vocab)\n",
    "\n",
    "print(\"Length of vocabulary:\", len(vocab))"
   ]
  },
  {
   "cell_type": "markdown",
   "metadata": {},
   "source": [
    "Create binary bag of words feature vectors for all data set texts using the vocabulary created above (include stop words)."
   ]
  },
  {
   "cell_type": "code",
   "execution_count": 6,
   "metadata": {},
   "outputs": [],
   "source": [
    "encoder = sklearn.feature_extraction.text.CountVectorizer(vocabulary=vocab, binary=True, analyzer=lambda text: text, dtype=np.float32)\n",
    "encoder.fit(train_set_x)\n",
    "\n",
    "train_x_vecs = encoder.transform(train_token_x).toarray()\n",
    "test_x_vecs = encoder.transform(test_token_x).toarray()\n",
    "dev_x_vecs = encoder.transform(dev_token_x).toarray()"
   ]
  },
  {
   "cell_type": "markdown",
   "metadata": {},
   "source": [
    "Create a data set of indexified token sequences for all texts using the vocabulary created above, making use of unknown tokens and pad tokens."
   ]
  },
  {
   "cell_type": "code",
   "execution_count": 7,
   "metadata": {},
   "outputs": [],
   "source": [
    "word2index = {word: i for (i, word) in enumerate(vocab)}\n",
    "\n",
    "for i in range(len(train_token_x)):\n",
    "    for j in range(len(train_token_x[i])):\n",
    "        if train_token_x[i][j] not in word2index:\n",
    "            train_token_x[i][j] = '<UNK>'\n",
    "    train_token_x[i].extend(['<PAD>']*(train_max - len(train_token_x[i])))\n",
    "    \n",
    "for i in range(len(test_token_x)):\n",
    "    for j in range(len(test_token_x[i])):\n",
    "        if test_token_x[i][j] not in word2index:\n",
    "            test_token_x[i][j] = '<UNK>'\n",
    "    test_token_x[i].extend(['<PAD>']*(test_max - len(test_token_x[i])))\n",
    "    \n",
    "for i in range(len(dev_token_x)):\n",
    "    for j in range(len(dev_token_x[i])):\n",
    "        if dev_token_x[i][j] not in word2index:\n",
    "            dev_token_x[i][j] = '<UNK>'\n",
    "    dev_token_x[i].extend(['<PAD>']*(dev_max - len(dev_token_x[i])))\n",
    "\n",
    "indexed_train_x = torch.tensor([[word2index[word] for word in text] for text in train_token_x], dtype=torch.int64)\n",
    "tensor_train_lens = torch.tensor(train_lens, dtype=torch.int64)\n",
    "indexed_test_x = torch.tensor([[word2index[word] for word in text] for text in test_token_x], dtype=torch.int64)\n",
    "tensor_test_lens = torch.tensor(test_lens, dtype=torch.int64)\n",
    "indexed_dev_x = torch.tensor([[word2index[word] for word in text] for text in dev_token_x], dtype=torch.int64)\n",
    "tensor_dev_lens = torch.tensor(dev_lens, dtype=torch.int64)"
   ]
  },
  {
   "cell_type": "markdown",
   "metadata": {},
   "source": [
    "Write code that counts the percentage of tokens in each data set that are unknown tokens (not including pad tokens)."
   ]
  },
  {
   "cell_type": "code",
   "execution_count": 8,
   "metadata": {},
   "outputs": [
    {
     "name": "stdout",
     "output_type": "stream",
     "text": [
      "Train Set Unknown %: 1.31%\n",
      "Test Set Unknown %: 6.85%\n",
      "Dev Set Unknown %: 2.32%\n"
     ]
    }
   ],
   "source": [
    "def unk_percent(tokens):\n",
    "    total_tokens = sum([len(x) for x in tokens])    \n",
    "    unk_tokens = sum([1 if word == \"<UNK>\" else 0 for text in tokens for word in text])\n",
    "    return (unk_tokens/total_tokens)\n",
    "\n",
    "train_unkper = unk_percent(train_token_x)\n",
    "test_unkper = unk_percent(test_token_x)\n",
    "dev_unkper = unk_percent(dev_token_x)\n",
    "\n",
    "print(\"Train Set Unknown %: {:.2%}\".format(train_unkper))\n",
    "print(\"Test Set Unknown %: {:.2%}\".format(test_unkper))\n",
    "print(\"Dev Set Unknown %: {:.2%}\".format(dev_unkper))"
   ]
  },
  {
   "cell_type": "markdown",
   "metadata": {},
   "source": [
    "## Linear regression classification (20%)\n",
    "\n",
    "Write a linear regression classifier (single layer neural net) that is trained to classify the author gender from the bag of words vector of the text.\n",
    "You do not need to perform any hyperparameter tuning.\n",
    "Use L1 weight decay regularisation."
   ]
  },
  {
   "cell_type": "code",
   "execution_count": 9,
   "metadata": {},
   "outputs": [],
   "source": [
    "class Linear_Model(torch.nn.Module):\n",
    "    \n",
    "    def __init__(self, vocab_size, num_categories):\n",
    "        super().__init__()\n",
    "        self.w = torch.nn.Parameter(torch.zeros((vocab_size, num_categories), dtype=torch.float32, requires_grad=True))\n",
    "        self.b = torch.nn.Parameter(torch.zeros((num_categories,), dtype=torch.float32, requires_grad=True))\n",
    "\n",
    "    def forward(self, x):\n",
    "        return x@self.w + self.b"
   ]
  },
  {
   "cell_type": "code",
   "execution_count": 10,
   "metadata": {},
   "outputs": [
    {
     "name": "stdout",
     "output_type": "stream",
     "text": [
      "step error\n",
      "100 0.6532608270645142\n",
      "200 0.6431172490119934\n"
     ]
    }
   ],
   "source": [
    "lin_model = Linear_Model(len(vocab), 2)\n",
    "lin_model.to('cpu')\n",
    "\n",
    "optimiser = torch.optim.Adam(lin_model.parameters())\n",
    "\n",
    "tensor_train_x_vecs = torch.tensor(train_x_vecs, dtype=torch.float32)\n",
    "# tensor_train_y = torch.tensor(train_y_indexes, dtype=torch.int64)\n",
    "\n",
    "print('step', 'error')\n",
    "for step in range(1, 200+1):\n",
    "    optimiser.zero_grad()\n",
    "    output = lin_model(tensor_train_x_vecs)\n",
    "    error = torch.nn.functional.cross_entropy(output, tensor_indexed_train_y) + lin_model.w.abs().mean()\n",
    "    error.backward()\n",
    "    optimiser.step()\n",
    "\n",
    "    if step%100 == 0:\n",
    "        print(step, error.detach().tolist())"
   ]
  },
  {
   "cell_type": "markdown",
   "metadata": {},
   "source": [
    "Measure the accuracy, precision, recall, and F1-score of this classifier on the test set."
   ]
  },
  {
   "cell_type": "code",
   "execution_count": 11,
   "metadata": {},
   "outputs": [],
   "source": [
    "def calc_accuracy(TP, TN, tot):\n",
    "    return (TP + TN)/tot\n",
    "\n",
    "def calc_precision(TP, FP):\n",
    "    return TP/(TP + FP)\n",
    "\n",
    "def calc_recall(TP, FN):\n",
    "    return TP/(TP + FN)\n",
    "\n",
    "def calc_f1_score(precision, recall):\n",
    "    num = precision * recall\n",
    "    denom = precision + recall\n",
    "    return 2 * (num/denom)"
   ]
  },
  {
   "cell_type": "code",
   "execution_count": 12,
   "metadata": {},
   "outputs": [
    {
     "name": "stdout",
     "output_type": "stream",
     "text": [
      "Accuracy: 60.64%\n",
      "Precision: 60.27%\n",
      "Recall: 62.42%\n",
      "F1-Score: 61.33%\n"
     ]
    }
   ],
   "source": [
    "tensor_test_x_vecs = torch.tensor(test_x_vecs, dtype=torch.float32)\n",
    "\n",
    "targets = np.array(tensor_indexed_test_y, np.int64)\n",
    "\n",
    "with torch.no_grad():\n",
    "    output_probs = torch.sigmoid(lin_model(tensor_test_x_vecs))\n",
    "    outputs = output_probs.detach().numpy().argmax(axis=1)\n",
    "\n",
    "tp = 0\n",
    "tn = 0\n",
    "fp = 0\n",
    "fn = 0\n",
    "\n",
    "for i in range(len(targets)):\n",
    "    if(targets[i] == outputs[i]):\n",
    "        if(targets[i] == 0):\n",
    "            tn += 1\n",
    "        else:\n",
    "            tp += 1\n",
    "    else:\n",
    "        if(targets[i] == 0):\n",
    "            fp += 1\n",
    "        else:\n",
    "            fn += 1\n",
    "            \n",
    "accuracy = calc_accuracy(tp, tn, len(targets))\n",
    "precision = calc_precision(tp, fp)\n",
    "recall = calc_recall(tp, fn)\n",
    "f1_score = calc_f1_score(precision, recall)\n",
    "\n",
    "\n",
    "print('Accuracy: {:.2%}'.format(accuracy))\n",
    "print('Precision: {:.2%}'.format(precision))\n",
    "print('Recall: {:.2%}'.format(recall))\n",
    "print('F1-Score: {:.2%}'.format(f1_score))\n"
   ]
  },
  {
   "cell_type": "markdown",
   "metadata": {},
   "source": [
    "Write code that shows the top 10 tokens that are the most important for determining the author gender according to the classifier."
   ]
  },
  {
   "cell_type": "code",
   "execution_count": 13,
   "metadata": {},
   "outputs": [
    {
     "name": "stdout",
     "output_type": "stream",
     "text": [
      "Top 10 words\n",
      "1) -arv (19.25%)\n",
      "2) hakx (18.94%)\n",
      "3) gio (18.93%)\n",
      "4) jhayne (18.82%)\n",
      "5) dan (18.73%)\n",
      "6) venerable (18.60%)\n",
      "7) 1. (18.58%)\n",
      "8) killy (18.37%)\n",
      "9) managed (18.36%)\n",
      "10) -sane (18.35%)\n"
     ]
    }
   ],
   "source": [
    "w = np.abs(lin_model.w.detach().numpy())\n",
    "\n",
    "category_index = 5\n",
    "weighted_words = sorted(zip(w[:, :].tolist(), vocab), reverse=True)\n",
    "top_ten = []\n",
    "\n",
    "print('Top 10 words')\n",
    "for i, weighted_word in enumerate(weighted_words[:10]):\n",
    "    m = (weighted_word[0][0] + weighted_word[0][1]) / 2\n",
    "    mean = \"{:.2%}\".format(m)\n",
    "    print(i+1,\") \",weighted_word[1],\" (\",mean,\")\",sep=\"\")\n",
    "    top_ten.append(weighted_word[1])"
   ]
  },
  {
   "cell_type": "markdown",
   "metadata": {},
   "source": [
    "Write code that, for each data split and gender, shows the percentage of rows that include at least one of these important words (so 6 percentages in all)."
   ]
  },
  {
   "cell_type": "code",
   "execution_count": 14,
   "metadata": {},
   "outputs": [
    {
     "name": "stdout",
     "output_type": "stream",
     "text": [
      "Word:\t-sane\n",
      "\n",
      "Train Set Male: 0.05%\n",
      "Train Set Female: 0.00%\n",
      "Test Set Male: 0.06%\n",
      "Test Set Female: 0.00%\n",
      "Dev Set Male: 0.06%\n",
      "Dev Set Female: 0.00%\n"
     ]
    }
   ],
   "source": [
    "def percentageofword(word, dataset, gender):\n",
    "    count = 0\n",
    "    total = len(dataset.index)\n",
    "    for i,text in enumerate(dataset[\"text\"]):\n",
    "        text = text.lower()\n",
    "        if(dataset[\"gender\"][i] == gender):\n",
    "            if(text.find(word) != -1):\n",
    "                count += 1\n",
    "    return count/total\n",
    "\n",
    "top_word = random.randint(0,len(top_ten)-1)\n",
    "\n",
    "train_percent_male = percentageofword(top_ten[top_word], train_set, \"male\")\n",
    "train_percent_female = percentageofword(top_ten[top_word], train_set, \"female\")\n",
    "\n",
    "test_percent_male = percentageofword(top_ten[top_word], test_set, \"male\")\n",
    "test_percent_female = percentageofword(top_ten[top_word], test_set, \"female\")\n",
    "\n",
    "dev_percent_male = percentageofword(top_ten[top_word], dev_set, \"male\")\n",
    "dev_percent_female = percentageofword(top_ten[top_word], dev_set, \"female\")\n",
    "\n",
    "print(\"Word:\", top_ten[top_word], sep=\"\\t\")\n",
    "print()\n",
    "\n",
    "print(\"Train Set Male: {:.2%}\".format(train_percent_male))\n",
    "print(\"Train Set Female: {:.2%}\".format(train_percent_female))\n",
    "print(\"Test Set Male: {:.2%}\".format(test_percent_male))\n",
    "print(\"Test Set Female: {:.2%}\".format(test_percent_female))\n",
    "print(\"Dev Set Male: {:.2%}\".format(dev_percent_male))\n",
    "print(\"Dev Set Female: {:.2%}\".format(dev_percent_female))"
   ]
  },
  {
   "cell_type": "markdown",
   "metadata": {},
   "source": [
    "## Deep learning classifier (50%)\n",
    "\n",
    "Perform hyperparameter tuning on a deep learning classifier (with a convolutional neural network or a recurrent neural network) that is trained to classify the author gender from the indexified sequences of the text.\n",
    "Using the dev set for evaluation.\n",
    "Output the best hyperparameters found and do not store the best trained model as you will be training it again in the next bit."
   ]
  },
  {
   "cell_type": "code",
   "execution_count": null,
   "metadata": {},
   "outputs": [],
   "source": [
    "class Conv_Model(torch.nn.Module):\n",
    "    \n",
    "    def __init__(self, vocab_size, categ_size, embedding_size, window_size, hidden_size, init_dev):\n",
    "        super().__init__()\n",
    "        self.window_size = window_size\n",
    "        self.embedding_matrix = torch.nn.Parameter(torch.tensor(np.random.normal(0.0, init_dev, (vocab_size, embedding_size)), dtype=torch.float32))\n",
    "        self.w1 = torch.nn.Parameter(torch.tensor(np.random.normal(0.0, init_dev, (hidden_size, embedding_size, window_size)), dtype=torch.float32))\n",
    "        self.b1 = torch.nn.Parameter(torch.zeros((hidden_size,), dtype=torch.float32))\n",
    "        self.w2 = torch.nn.Parameter(torch.tensor(np.random.normal(0.0, init_dev, (hidden_size, categ_size)), dtype=torch.float32))\n",
    "        self.b2 = torch.nn.Parameter(torch.zeros((categ_size,), dtype=torch.float32))\n",
    "\n",
    "    def forward(self, x, text_lens):\n",
    "        embedded = self.embedding_matrix[x]\n",
    "        embedded_t = embedded.transpose(1, 2)\n",
    "        hidden_t = torch.nn.functional.leaky_relu(torch.nn.functional.conv1d(embedded_t, self.w1, self.b1))\n",
    "        hidden = hidden_t.transpose(1, 2)\n",
    "\n",
    "        pad_mask = torch.zeros(hidden.shape, dtype=torch.bool)\n",
    "        for i in range(hidden.shape[0]):\n",
    "            for j in range(hidden.shape[1]):\n",
    "                pad_mask[i, j, :] = j >= (text_lens[i] - self.window_size + 1)\n",
    "        masked = torch.masked_fill(hidden, pad_mask, torch.tensor(np.inf))\n",
    "        \n",
    "        pooled = torch.min(masked, dim=1)[0]\n",
    "        output = pooled@self.w2 + self.b2\n",
    "        return output\n"
   ]
  },
  {
   "cell_type": "code",
   "execution_count": 15,
   "metadata": {},
   "outputs": [],
   "source": [
    "class Rec_Model(torch.nn.Module):\n",
    "    \n",
    "    def __init__(self, vocab_size, categ_size, is_lstm, embedding_size, hidden_size, init_dev):\n",
    "        super().__init__()\n",
    "        self.hidden_size = hidden_size\n",
    "        self.is_lstm = is_lstm\n",
    "        \n",
    "        self.embedding_matrix = torch.nn.Parameter(torch.tensor(np.random.normal(0.0, init_dev, (vocab_size, embedding_size)), dtype=torch.float32))\n",
    "        self.s0 = torch.nn.Parameter(torch.tensor(np.random.normal(0.0, init_dev, (hidden_size,)), dtype=torch.float32))\n",
    "        \n",
    "        if is_lstm:\n",
    "            self.lstm = torch.nn.LSTMCell(embedding_size, hidden_size)\n",
    "            self.c0 = torch.nn.Parameter(torch.tensor(np.random.normal(0.0, init_dev, (hidden_size,)), dtype=torch.float32))\n",
    "\n",
    "        else:\n",
    "            self.gru = torch.nn.GRUCell(embedding_size, hidden_size)\n",
    "\n",
    "        self.w = torch.nn.Parameter(torch.tensor(np.random.normal(0.0, init_dev, (hidden_size, categ_size)), dtype=torch.float32))\n",
    "        self.b = torch.nn.Parameter(torch.zeros((categ_size,), dtype=torch.float32))\n",
    "\n",
    "    def forward(self, x, text_lens):\n",
    "        batch_size = x.shape[0]\n",
    "        time_steps = x.shape[1]\n",
    "\n",
    "        embedded = self.embedding_matrix[x]\n",
    "        state = self.s0.unsqueeze(0).tile((batch_size, 1))\n",
    "        if self.is_lstm:\n",
    "            c = self.c0.unsqueeze(0).tile((batch_size, 1))\n",
    "        for t in range(time_steps):\n",
    "            mask = (t < text_lens).unsqueeze(1).tile((1, self.hidden_size))\n",
    "            if self.is_lstm:\n",
    "                (next_state, c) = self.lstm(embedded[:, t, :], (state, c))\n",
    "            else:\n",
    "                next_state = self.gru(embedded[:, t, :], state)\n",
    "            state = torch.where(mask, next_state, state)\n",
    "        return state@self.w + self.b\n"
   ]
  },
  {
   "cell_type": "code",
   "execution_count": null,
   "metadata": {},
   "outputs": [],
   "source": [
    "embedding_size_set = [2, 3]\n",
    "cell_type_set = [True, False]\n",
    "hidden_size_set = [1, 2, 4, 8, 16]\n",
    "init_dev_set = [10.0, 1.0, 0.1, 0.01, 0.001]\n",
    "\n",
    "already_generated = set()\n",
    "best_dev_acc = 0.0\n",
    "best_hyperparams = None\n",
    "\n",
    "skip = 50\n",
    "\n",
    "for i in range(1, 20+1):\n",
    "    while True:\n",
    "        embedd_size = random.choice(embedding_size_set)\n",
    "        cell_type = random.choice(cell_type_set)\n",
    "        hidden_size = random.choice(hidden_size_set)\n",
    "        init_dev = random.choice(init_dev_set)\n",
    "        hyperparams = (embedd_size, cell_type, hidden_size, init_dev)\n",
    "        if hyperparams not in already_generated:\n",
    "            already_generated.add(hyperparams)\n",
    "            break\n",
    "    if i%skip == 0:\n",
    "        print('Hyperparameter search attempt:', i)\n",
    "        print('Embedding Size:', embedd_size)\n",
    "        print('Cell Type:', (\"LSTM\" if b_cell_type is True else \"GRU\"))\n",
    "        print('Hidden Layer Size:', hidden_size)\n",
    "        print('Initial Standard Deviation:', init_dev)\n",
    "\n",
    "    hyp_model = Rec_Model(len(vocab), len(categories), embedding_size=embedd_size, is_lstm=cell_type, hidden_size=hidden_size, init_dev=init_dev)\n",
    "    hyp_model.to('cpu')\n",
    "    optimiser = torch.optim.Adam(hyp_model.parameters(), lr=1.0)\n",
    "    for step in range(1, 40+1):\n",
    "        optimiser.zero_grad()\n",
    "        output = hyp_model(indexed_train_x, train_lens)\n",
    "        error = torch.nn.functional.cross_entropy(output, tensor_train_y)\n",
    "        error.backward()\n",
    "        optimiser.step()\n",
    "        \n",
    "    print()\n",
    "    with torch.no_grad():\n",
    "        targets = np.array(tensor_indexed_dev_y, np.int64)\n",
    "        output_probs = torch.sigmoid(deep_model(indexed_dev_x, dev_lens))\n",
    "        outputs = output_probs.detach().numpy().argmax(axis=1)\n",
    "        dev_acc = (targets == outputs).sum()/len(targets)\n",
    "    \n",
    "    if i%skip == 0:\n",
    "        print('Dev set accuracy:', dev_acc)\n",
    "    if dev_acc > best_dev_acc:\n",
    "        best_hyperparams = hyperparams\n",
    "        best_dev_acc = dev_acc\n",
    "        print('new best!')\n",
    "    print()\n",
    "\n",
    "(b_embedd_size, b_cell_type, b_hidden_size, b_init_dev) = best_hyperparams\n",
    "print('Best found:')\n",
    "print('Embedding Size:', b_embedd_size)\n",
    "print('Cell Type:', (\"LSTM\" if b_cell_type is True else \"GRU\"))\n",
    "print('Hidden Layer Size:', b_hidden_size)\n",
    "print('Init Stddev:', b_init_dev)\n",
    "print('Dev Set Accuracy:', best_dev_acc)"
   ]
  },
  {
   "cell_type": "markdown",
   "metadata": {},
   "source": [
    "Use the hyperparameters found in the previous bit to train the classifier, this time outputting a graph showing the dev set accuracy after every epoch."
   ]
  },
  {
   "cell_type": "code",
   "execution_count": 16,
   "metadata": {},
   "outputs": [],
   "source": [
    "def acc_plot(x, y, max_epochs):\n",
    "    # clear_output(wait=True)\n",
    "    plt.figure(figsize=(8,8))\n",
    "    \n",
    "    x = np.array(x)\n",
    "    y = np.array(y)\n",
    "    \n",
    "    X_Y_Spline = make_interp_spline(x, y)\n",
    "    X_ = np.linspace(x.min(), x.max(), 500)\n",
    "    Y_ = X_Y_Spline(X_)\n",
    "    \n",
    "    plt.plot(X_, Y_, color='blue')\n",
    "    \n",
    "    plt.title('Dev Set Accuracy')\n",
    "    plt.xlabel('Epochs')\n",
    "    plt.ylabel('Accuracy (%)')\n",
    "    plt.xlim([0,max_epochs])\n",
    "    \n",
    "    y = np.delete(y,0)\n",
    "    min_y = min(y)\n",
    "    max_y = max(y)\n",
    "    min_y -= 5\n",
    "    max_y += 5\n",
    "    if min_y < 0:\n",
    "        min_y = 0\n",
    "    if max_y > 100:\n",
    "        max_y = 100\n",
    "    plt.ylim([min_y, max_y])\n",
    "    \n",
    "    plt.show()"
   ]
  },
  {
   "cell_type": "code",
   "execution_count": 17,
   "metadata": {},
   "outputs": [],
   "source": [
    "b_embedd_size = 3\n",
    "b_cell_type = True\n",
    "b_hidden_size = 8\n",
    "b_init_dev = 0.1"
   ]
  },
  {
   "cell_type": "code",
   "execution_count": 18,
   "metadata": {},
   "outputs": [
    {
     "name": "stdout",
     "output_type": "stream",
     "text": [
      "50 0.6923137903213501\n",
      "0.5681720430107526\n",
      "100 0.6800097823143005\n",
      "0.5898924731182795\n"
     ]
    },
    {
     "data": {
      "image/png": "[encoded data removed]",
      "text/plain": [
       "<Figure size 576x576 with 1 Axes>"
      ]
     },
     "metadata": {
      "needs_background": "light"
     },
     "output_type": "display_data"
    }
   ],
   "source": [
    "# deep_model = Conv_Model(len(vocab), len(categories), embedding_size=b_embedd_size, window_size=b_wind_size, hidden_size=b_hidden_size, init_dev=b_init_dev)\n",
    "\n",
    "deep_model = Rec_Model(len(vocab), len(categories), is_lstm=b_cell_type,embedding_size=b_embedd_size, hidden_size=b_hidden_size, init_dev=b_init_dev)\n",
    "\n",
    "deep_model.to('cpu')\n",
    "\n",
    "optimiser = torch.optim.Adam(deep_model.parameters())\n",
    "\n",
    "max_epoch = 100\n",
    "x = [0]\n",
    "y = [0]\n",
    "\n",
    "# print('step', 'error')\n",
    "for step in range(1, max_epoch+1):\n",
    "    optimiser.zero_grad()\n",
    "    output = deep_model(indexed_train_x, tensor_train_lens)\n",
    "    error = torch.nn.functional.cross_entropy(output, tensor_indexed_train_y)\n",
    "    error.backward()\n",
    "    optimiser.step()\n",
    "    \n",
    "    with torch.no_grad():\n",
    "        targets = np.array(tensor_indexed_dev_y, np.int64)\n",
    "        output_probs = torch.sigmoid(deep_model(indexed_dev_x, tensor_dev_lens))\n",
    "        outputs = output_probs.detach().numpy().argmax(axis=1)\n",
    "        dev_acc = (targets == outputs).sum()/len(targets)\n",
    "    \n",
    "    x.append(step)\n",
    "    y.append(dev_acc * 100)\n",
    "\n",
    "    if step%50 == 0:\n",
    "        print(step, error.detach().tolist())\n",
    "        print(dev_acc)\n",
    "    \n",
    "acc_plot(x, y, max_epoch)\n"
   ]
  },
  {
   "cell_type": "markdown",
   "metadata": {},
   "source": [
    "Measure the accuracy, precision, recall, and F1-score of this classifier on the test set."
   ]
  },
  {
   "cell_type": "code",
   "execution_count": 31,
   "metadata": {},
   "outputs": [
    {
     "name": "stdout",
     "output_type": "stream",
     "text": [
      "Accuracy: 55.95%\n",
      "Precision: 53.82%\n",
      "Recall: 83.79%\n",
      "F1-Score: 65.55%\n"
     ]
    }
   ],
   "source": [
    "targets = np.array(tensor_indexed_test_y, np.int64)\n",
    "\n",
    "with torch.no_grad():\n",
    "    output_probs = torch.sigmoid(deep_model(indexed_test_x, tensor_test_lens))\n",
    "    outputs = output_probs.detach().numpy().argmax(axis=1)\n",
    "\n",
    "tp = 0\n",
    "tn = 0\n",
    "fp = 0\n",
    "fn = 0\n",
    "\n",
    "for i in range(len(targets)):\n",
    "    if(targets[i] == outputs[i]):\n",
    "        if(targets[i] == 0):\n",
    "            tn += 1\n",
    "        else:\n",
    "            tp += 1\n",
    "    else:\n",
    "        if(targets[i] == 0):\n",
    "            fp += 1\n",
    "        else:\n",
    "            fn += 1\n",
    "            \n",
    "accuracy = calc_accuracy(tp, tn, len(targets))\n",
    "precision = calc_precision(tp, fp)\n",
    "recall = calc_recall(tp, fn)\n",
    "f1_score = calc_f1_score(precision, recall)\n",
    "\n",
    "\n",
    "print('Accuracy: {:.2%}'.format(accuracy))\n",
    "print('Precision: {:.2%}'.format(precision))\n",
    "print('Recall: {:.2%}'.format(recall))\n",
    "print('F1-Score: {:.2%}'.format(f1_score))"
   ]
  },
  {
   "cell_type": "markdown",
   "metadata": {},
   "source": [
    "Output a confusion matrix of the trained model on the test set."
   ]
  },
  {
   "cell_type": "code",
   "execution_count": 20,
   "metadata": {},
   "outputs": [],
   "source": [
    "# function to plot the confusion matrix\n",
    "def plot_confusion_matrix(cm, classes, normalize=False, title='Confusion Matrix', cmap=plt.cm.Blues):\n",
    "    if normalize:\n",
    "        cm = cm.astype('float') / cm.sum(axis=1)[:, np.newaxis]\n",
    "    \n",
    "    plt.imshow(cm, interpolation='nearest', cmap=cmap)\n",
    "    plt.title(title)\n",
    "    plt.colorbar()\n",
    "    tick_marks = np.arange(len(classes))\n",
    "    plt.xticks(tick_marks, classes, rotation=90)\n",
    "    plt.yticks(tick_marks, classes)\n",
    "    \n",
    "    fmt = '.2f' if normalize else 'd'\n",
    "    thresh = cm.max() / 2\n",
    "    \n",
    "    for i, j in itertools.product(range(cm.shape[0]), range(cm.shape[1])):\n",
    "        plt.text(j, i, format(cm[i, j], fmt), horizontalalignment=\"center\", color=\"white\" if cm[i, j] > thresh else \"black\")\n",
    "        \n",
    "    plt.tight_layout()\n",
    "    plt.ylabel('True Label')\n",
    "    plt.xlabel('Predicted Label')"
   ]
  },
  {
   "cell_type": "code",
   "execution_count": 21,
   "metadata": {},
   "outputs": [
    {
     "data": {
      "image/png": "[encoded data removed]",
      "text/plain": [
       "<Figure size 576x576 with 2 Axes>"
      ]
     },
     "metadata": {
      "needs_background": "light"
     },
     "output_type": "display_data"
    }
   ],
   "source": [
    "conf_mat = confusion_matrix(targets, outputs)\n",
    "\n",
    "plt.figure(figsize=(8,8))\n",
    "plt.grid(b=False)\n",
    "plot_confusion_matrix(conf_mat, classes=categories, normalize=True, title='Normalized Confusion Matrix')\n",
    "# image_name = \"Pics/\" + dataset + \"_\" + model_name + \"_ConfusionMatrix.png\"\n",
    "# plt.savefig(image_name)\n",
    "plt.show()"
   ]
  },
  {
   "cell_type": "markdown",
   "metadata": {},
   "source": [
    "Output 5 examples of correctly classified text for each gender and 5 examples of incorrectly classified text for each gender (so 20 text examples in total), all of which must be from the test set.\n",
    "This is assuming that you have at least 5 instances of each group.\n",
    "If you have less, then show whatever is available."
   ]
  },
  {
   "cell_type": "code",
   "execution_count": 35,
   "metadata": {},
   "outputs": [
    {
     "name": "stdout",
     "output_type": "stream",
     "text": [
      "Correctly Classified Female Texts:\n",
      "1) urlLink House pictures are up...more words to come!\n",
      "2) I have my own domain. Yay! www.patchedjeans.com K...I'm going to go back to work now. bye!\n",
      "3) The Job Hunt I hate looking for a job......hate........Hate.........HATE okay feel better now...\n",
      "4) Quote of the Day 'He's a rocket scientist?! WOW! I didn't know those really existed!'\n",
      "5) urlLink My cousin Pasquale with his little cousins\n",
      "\n",
      "Correctly Classified Male Texts:\n",
      "1) Me and Caro outside le petit café a la place. Good times urlLink urlLink\n",
      "2) This is pretty good. urlLink Random Law and Order Plot Generator - BenSinclair.com\n",
      "3) urlLink The lovely Virginia, looking over our fine city from Central Park.\n",
      "4) urlLink urlLink audio post powered by urlLink audblog\n",
      "5) urlLink Asi kedo el gato de un amigo despues de un rato de ocio... urlLink\n",
      "\n",
      "Incorrectly Classified Female Texts:\n",
      "1) See how our little guy has grown! http://www.buhbie.com/menu/louie3.htm\n",
      "2) [Roz] I received this in email a couple days ago, and I liked the analogy.\n",
      "3) urlLink The lake at Volcan Irazu - Anyone for a quick swim?\n",
      "4) today was better. i am in such a good mood . imade money this weekend. love all around. bekah.\n",
      "5) Great Venerable Newman links at urlLink Lane Core's blog.\n",
      "\n",
      "Incorrectly Classified Male Texts:\n",
      "1) Why Why does it feel so good when I rub my eyes really hard?\n",
      "2) Look...Comments are enabled!!!!! This is an open forum, just say hello or whatever else you'd like.\n",
      "3) Quingar watched his friend think. ~I hurt him. Yet he still loves me. I don't know...~\n",
      "4) Finally got a cool place to show off . Hang in to know why i am the way i am :)\n",
      "5) SAAAAADIE HAWKIIIIIIINS IS TOMOOOOOOOORROW!!!!! moo ~ lauren\n",
      "\n"
     ]
    }
   ],
   "source": [
    "thresh = 5\n",
    "count = 0\n",
    "total = 0\n",
    "correct_male = []\n",
    "wrong_male = []\n",
    "correct_female = []\n",
    "wrong_female = []\n",
    "\n",
    "while count < thresh * 4:\n",
    "    total += 1\n",
    "    if total == len(test_set_x):\n",
    "        break\n",
    "    choice = random.randint(0, len(test_set_x) - 1)\n",
    "    if outputs[choice] == targets[choice]:\n",
    "        if targets[choice] == 0:\n",
    "            if len(correct_female) < thresh:\n",
    "                correct_female.append(choice)\n",
    "                count += 1\n",
    "            else:\n",
    "                continue\n",
    "        else:\n",
    "            if len(correct_male) < thresh:\n",
    "                correct_male.append(choice)\n",
    "                count += 1\n",
    "            else:\n",
    "                continue\n",
    "    else:\n",
    "        if targets[choice] == 0:\n",
    "            if len(wrong_female) < thresh:\n",
    "                wrong_female.append(choice)\n",
    "                count += 1\n",
    "            else:\n",
    "                continue\n",
    "        else:\n",
    "            if len(wrong_male) < thresh:\n",
    "                wrong_male.append(choice)\n",
    "                count += 1\n",
    "            else:\n",
    "                continue\n",
    "            \n",
    "examples = [correct_female, correct_male, wrong_female, wrong_male]\n",
    "\n",
    "exam_labels = [\"Correctly Classified Female Texts\", \"Correctly Classified Male Texts\",\n",
    "               \"Incorrectly Classified Female Texts\", \"Incorrectly Classified Male Texts\"]\n",
    "\n",
    "for i, example in enumerate(examples):\n",
    "    print(exam_labels[i] + \":\")\n",
    "    for j, index in enumerate(example):\n",
    "        print(str(j+1) + \") \" + test_set_x[index])\n",
    "    print()"
   ]
  },
  {
   "cell_type": "markdown",
   "metadata": {},
   "source": [
    "Remember the list of important tokens determined previously (from the logistic regression classifier)?\n",
    "Write code that takes all the texts in the test set that have at least one of the important tokens and shows the percentage of these texts that were correctly classified.\n",
    "Similarly, take all the texts that don't have any of the important tokens and show the percentage of these texts that were correctly classified (so 2 percentages in total)."
   ]
  },
  {
   "cell_type": "code",
   "execution_count": 23,
   "metadata": {},
   "outputs": [],
   "source": [
    "def token_perc(words, dataset, outputs, targets):\n",
    "    true_imp = 0\n",
    "    total_imp = 0\n",
    "    true_other = 0\n",
    "    total_other = 0\n",
    "    for i,text in enumerate(dataset[\"text\"]):\n",
    "        text = text.lower()\n",
    "        \n",
    "        if re.compile('|'.join(words),re.IGNORECASE).search(text):\n",
    "            total_imp += 1\n",
    "            if outputs[i] == targets[i]:\n",
    "                true_imp += 1\n",
    "\n",
    "        else:\n",
    "            total_other += 1\n",
    "            if outputs[i] == targets[i]:\n",
    "                true_other += 1\n",
    "                \n",
    "    imp_per = true_imp/total_imp\n",
    "    other_per = true_other/total_other\n",
    "            \n",
    "    return (imp_per, other_per)"
   ]
  },
  {
   "cell_type": "code",
   "execution_count": 24,
   "metadata": {},
   "outputs": [
    {
     "name": "stdout",
     "output_type": "stream",
     "text": [
      "%age of Important Tokens: 56.97%\n",
      "%age of Other Tokens: 54.11%\n"
     ]
    }
   ],
   "source": [
    "imp_tok_per, other_tok_per = token_perc(top_ten, test_set, outputs, targets)\n",
    "\n",
    "\n",
    "print(\"%age of Important Tokens: {:.2%}\".format(imp_tok_per))\n",
    "print(\"%age of Other Tokens: {:.2%}\".format(other_tok_per))"
   ]
  },
  {
   "cell_type": "markdown",
   "metadata": {},
   "source": [
    "## Conclusion (10%)\n",
    "\n",
    "Write, in less than 300 words, your interpretation of the results and how you think the model could perform better.\n",
    "You should talk about things like overfitting/underfitting and whether the model is learning anything deep about how the different genders write or if it's just basing everything on the words used."
   ]
  },
  {
   "cell_type": "markdown",
   "metadata": {},
   "source": []
  }
 ],
 "metadata": {
  "interpreter": {
   "hash": "6ce3b824504692ac02849902c8b8a9757c2b44c834f8b88396ffb8e175c7b5c1"
  },
  "kernelspec": {
   "display_name": "Python 3.9.1 64-bit",
   "name": "python3"
  },
  "language_info": {
   "codemirror_mode": {
    "name": "ipython",
    "version": 3
   },
   "file_extension": ".py",
   "mimetype": "text/x-python",
   "name": "python",
   "nbconvert_exporter": "python",
   "pygments_lexer": "ipython3",
   "version": "3.9.1"
  },
  "orig_nbformat": 4
 },
 "nbformat": 4,
 "nbformat_minor": 2
}
